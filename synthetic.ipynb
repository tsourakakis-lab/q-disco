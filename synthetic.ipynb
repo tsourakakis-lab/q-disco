{
 "cells": [
  {
   "cell_type": "markdown",
   "id": "8c748997-1ad5-4ab6-804f-a0acae6e6a71",
   "metadata": {},
   "source": [
    "# Import modules and define functions for baselines"
   ]
  },
  {
   "cell_type": "code",
   "execution_count": null,
   "id": "b5015b67-ac07-45b1-9421-1970ab2a0624",
   "metadata": {},
   "outputs": [],
   "source": [
    "import gurobipy as gp\n",
    "env = gp.Env(empty=True)\n",
    "env.setParam('OutputFlag', 0)\n",
    "env.start()\n",
    "# Create a new model"
   ]
  },
  {
   "cell_type": "code",
   "execution_count": null,
   "id": "948c226e-fdb2-4658-bf14-2102aa796fda",
   "metadata": {
    "tags": []
   },
   "outputs": [],
   "source": [
    "import matplotlib.pyplot as plt\n",
    "plt.rcParams['font.size'] = '16'"
   ]
  },
  {
   "cell_type": "code",
   "execution_count": null,
   "id": "9aabbc09-85bb-4845-8453-68101a58bcb0",
   "metadata": {
    "tags": []
   },
   "outputs": [],
   "source": [
    "import subprocess\n",
    "from dsd import fibheap, dsp\n",
    "import dsd\n",
    "from scipy import optimize\n",
    "import networkx as nx\n",
    "import numpy as np\n",
    "import time\n",
    "import warnings\n",
    "import math\n",
    "warnings.filterwarnings('ignore')"
   ]
  },
  {
   "cell_type": "markdown",
   "id": "c19f2596-5d32-43ab-a02e-0494d6c1bcb0",
   "metadata": {},
   "source": [
    "## LP-S\n",
    "\n",
    "The output x is further used for LP-G"
   ]
  },
  {
   "cell_type": "code",
   "execution_count": null,
   "id": "73bc39c6-8bc8-4957-b6f4-d125412759e9",
   "metadata": {
    "tags": []
   },
   "outputs": [],
   "source": [
    "def LP_solve(model, G, c, theta, verbose=False, obj_lower_bound=0):\n",
    "    start_time = time.time()\n",
    "    n = G.number_of_nodes()\n",
    "    m = G.number_of_edges()\n",
    "    global_opt = 0\n",
    "    global_S = []\n",
    "    \n",
    "    xs, ys = [], []\n",
    "    for i in range(n):\n",
    "        tmp_v = model.addVar(lb=0, ub=1, vtype=gp.GRB.CONTINUOUS, name=\"x_\"+str(i))\n",
    "        xs.append(tmp_v)\n",
    "    for e in G.edges():\n",
    "        tmp_e = model.addVar(lb=0, ub=1, vtype=gp.GRB.CONTINUOUS, name=\"y_\"+str(e[0])+\"_\"+str(e[1]))\n",
    "        ys.append(tmp_e)\n",
    "    # Set the objective function\n",
    "    model.setObjective(sum(ys), gp.GRB.MAXIMIZE)\n",
    "\n",
    "    # Add constraints\n",
    "    cnt = 0\n",
    "    for e in G.edges():\n",
    "        model.addConstr(ys[cnt]-xs[e[0]] <= 0)\n",
    "        model.addConstr(ys[cnt]-xs[e[1]] <= 0)\n",
    "        cnt += 1\n",
    "    model.addConstr(sum(xs)<=1)\n",
    "    cu_sum = sum([xs[u]*c[u] for u in G.nodes()])\n",
    "    model.addConstr(-cu_sum <= -theta)\n",
    "\n",
    "    # Optimize the model\n",
    "    model.optimize()\n",
    "    \n",
    "    if verbose:\n",
    "        if model.status == gp.GRB.OPTIMAL:\n",
    "            print(\"Optimal solution found!\")\n",
    "            for v in model.getVars():\n",
    "                print(f\"{v.varName}: {v.x}\")\n",
    "            print(f\"Objective value: {model.objVal}\")\n",
    "        else:\n",
    "            print(\"No solution found.\")\n",
    "\n",
    "    optimal = 0\n",
    "    opt_S = []\n",
    "    x = [i.x for i in model.getVars()[:n]]\n",
    "    # y = res['x'][n:]\n",
    "    rs = set(x)\n",
    "    x = np.array(x)\n",
    "    for r in rs:\n",
    "        S = np.where(x>=r)[0]\n",
    "        \n",
    "        cur_density = float(G.subgraph(S).number_of_edges())/len(S)\n",
    "        cur_nw = sum(c[u] for u in S)/len(S)\n",
    "        # print(cur_density, cur_nw)\n",
    "        if cur_nw>theta and cur_density>optimal:\n",
    "            optimal = cur_density\n",
    "            opt_S = list(S)\n",
    "            \n",
    "    runningtime = time.time()-start_time\n",
    "    return optimal, opt_S, runningtime, x"
   ]
  },
  {
   "cell_type": "markdown",
   "id": "b5316b56-da2e-4bc1-94aa-233f2caa77b5",
   "metadata": {},
   "source": [
    "## Integer programming that solve the problem exactly (extremely slow)"
   ]
  },
  {
   "cell_type": "code",
   "execution_count": null,
   "id": "9c5aa4eb-33cf-4abe-aca2-dc52e6126077",
   "metadata": {
    "tags": []
   },
   "outputs": [],
   "source": [
    "def IP_solve(G, c, theta, verbose=False, obj_lower_bound=0):\n",
    "    start_time = time.time()\n",
    "    n = G.number_of_nodes()\n",
    "    m = G.number_of_edges()\n",
    "    global_opt = 0\n",
    "    global_S = []\n",
    "    for size in range(2,n+1):\n",
    "        model = gp.Model(env=env)\n",
    "        xs, ys = [], []\n",
    "        for i in range(n):\n",
    "            tmp_v = model.addVar(lb=0, ub=1, vtype=gp.GRB.INTEGER, name=\"x_\"+str(i))\n",
    "            xs.append(tmp_v)\n",
    "        for e in G.edges():\n",
    "            tmp_e = model.addVar(lb=0, ub=1, vtype=gp.GRB.INTEGER, name=\"y_\"+str(e[0])+\"_\"+str(e[1]))\n",
    "            ys.append(tmp_e)\n",
    "        # Set the objective function\n",
    "        model.setObjective(sum(ys)/size, gp.GRB.MAXIMIZE)\n",
    "\n",
    "        # Add constraints\n",
    "        cnt = 0\n",
    "        for e in G.edges():\n",
    "            model.addConstr(ys[cnt]-xs[e[0]] <= 0)\n",
    "            model.addConstr(ys[cnt]-xs[e[1]] <= 0)\n",
    "            cnt += 1\n",
    "        model.addConstr(sum(xs)==size)\n",
    "        cu_sum = sum([xs[u]*c[u] for u in G.nodes()])\n",
    "        model.addConstr(-cu_sum/size <= -theta)\n",
    "\n",
    "        # Optimize the model\n",
    "        model.optimize()\n",
    "\n",
    "        if verbose:\n",
    "            if model.status == gp.GRB.OPTIMAL:\n",
    "                print(\"Optimal solution found!\")\n",
    "                for v in model.getVars():\n",
    "                    print(f\"{v.varName}: {v.x}\")\n",
    "                print(f\"Objective value: {model.objVal}\")\n",
    "            else:\n",
    "                print(\"No solution found.\")\n",
    "\n",
    "        optimal = 0\n",
    "        opt_S = []\n",
    "        \n",
    "        if abs(model.objVal)>optimal:\n",
    "            optimal = abs(model.objVal)\n",
    "            opt_S = list(np.where(np.array([i.x for i in model.getVars()[:n]])>0.5)[0])\n",
    "            \n",
    "    runningtime = time.time()-start_time\n",
    "    return optimal, opt_S, runningtime"
   ]
  },
  {
   "cell_type": "markdown",
   "id": "8977b929-c65f-47ff-bad1-0555b0b90d99",
   "metadata": {},
   "source": [
    "## AF baseline"
   ]
  },
  {
   "cell_type": "code",
   "execution_count": null,
   "id": "e264fcce-2697-4820-a212-35bcc5a4a9a0",
   "metadata": {
    "tags": []
   },
   "outputs": [],
   "source": [
    "def baseline(G, c, theta):\n",
    "    S = np.where(c>theta)[0]\n",
    "    densest_S, opt_d = dsd.exact_densest(G.subgraph(S))\n",
    "    return densest_S, opt_d"
   ]
  },
  {
   "cell_type": "markdown",
   "id": "28e5782a-182d-43da-8987-94c1e23a4329",
   "metadata": {},
   "source": [
    "# Exp"
   ]
  },
  {
   "cell_type": "code",
   "execution_count": null,
   "id": "256897a6-3fa9-4de2-b3a6-d2b1a08a5e99",
   "metadata": {},
   "outputs": [],
   "source": [
    "lp_times, lp_d = [],[]\n",
    "lp_extend = []\n",
    "flow_times, flow_d = [],[]\n",
    "peel_times, peel_d = [],[]\n",
    "base_times, base_d = [],[]\n",
    "multi=6\n",
    "for n in [200,400,800, 1600, 3200]:\n",
    "    p=multi*math.log(n)/n\n",
    "    tlp_times, tlp_d = [],[]\n",
    "    tlp_extend = []\n",
    "    tflow_times, tflow_d = [],[]\n",
    "    tpeel_times, tpeel_d = [],[]\n",
    "    tbase_times, tbase_d = [],[]\n",
    "    print(\"!!!!\",p,\"!!!!\")\n",
    "    for iteration in range(10):\n",
    "        G = nx.stochastic_block_model([n,n], [[p, 3/n],[3/n,1.2*p]])\n",
    "        n_w_1 = np.clip(np.random.normal(0.5,0.05,n), -1, 1) \n",
    "        n_w_2 = np.clip(np.random.normal(0.3,0.05,n), -1, 1) \n",
    "        nw = np.concatenate([n_w_1, n_w_2])\n",
    "\n",
    "        model = gp.Model(env=env)\n",
    "        lp_opt, lp_S, lp_time,x = LP_solve(model, G, nw, 0.45, verbose=False)\n",
    "        tlp_times.append(lp_time)\n",
    "        tlp_d.append(lp_opt)\n",
    "        print(\"LP-S\", lp_opt)\n",
    "\n",
    "        S = np.where(x>0)[0]\n",
    "        while  np.average(nw[S])<0.45:\n",
    "            remove = min(S, key=lambda e:nw[e])\n",
    "            S = S[S!=remove]\n",
    "        tlp_extend.append(G.subgraph(S).number_of_edges()/G.subgraph(S).number_of_nodes())\n",
    "        print(\"LP-G\", tlp_extend[-1])\n",
    "\n",
    "        f = open('data/syn/sbm_200.txt','w')\n",
    "        f.write(str(G.number_of_nodes())+' '+str(G.number_of_edges())+'\\n')\n",
    "\n",
    "        for i in n_w_1:\n",
    "            f.write(str(int(i*100))+'\\n')\n",
    "        for i in n_w_2:\n",
    "            f.write(str(int(i*100))+'\\n')\n",
    "\n",
    "        for e in G.edges():\n",
    "            f.write(str(e[0])+' '+str(e[1])+' '+'1\\n')\n",
    "\n",
    "        f.close()\n",
    "\n",
    "        st = time.time()\n",
    "        fout = open(f\"syn_sbm_process_{n}.flow\", \"w\")\n",
    "        subprocess.run([\"./src/exactweighted\",\"100\", \"100\", \"45\", \"100\", \"data/syn/sbm_200.txt\", \"syn_sbm.maxflow\"], stdout=fout) \n",
    "        finish_time = time.time()-st\n",
    "        f = open(\"syn_sbm.maxflow\",\"r\")\n",
    "        uids = []\n",
    "        for line in f:\n",
    "            uids.append(int(line.strip()))\n",
    "        d = G.subgraph(uids).number_of_edges()/len(uids)\n",
    "        tflow_times.append(finish_time)\n",
    "        tflow_d.append(d)\n",
    "        print(d, len(uids))\n",
    "\n",
    "        st = time.time()\n",
    "        subprocess.run([\"./src/ip_a\", \"45\", \"1000\", \"1000\", \"data/syn/sbm_200.txt\", \"syn_sbm.peel\"],\n",
    "            stdout = subprocess.DEVNULL) \n",
    "        finish_time = time.time()-st\n",
    "        f = open(\"syn_sbm.peel\",\"r\")\n",
    "        uids = []\n",
    "        for line in f:\n",
    "            uids.append(int(line.strip()))\n",
    "        d = G.subgraph(uids).number_of_edges()/len(uids)\n",
    "        tpeel_times.append(finish_time)\n",
    "        tpeel_d.append(d)\n",
    "        print(d)\n",
    "        b_S, b_d = baseline(G, nw, 0.45)\n",
    "        tbase_d.append(b_d)\n",
    "        print(\"baseline\", b_d)\n",
    "    lp_times.append((np.average(tlp_times),np.std(tlp_times)))\n",
    "    lp_d.append((np.average(tlp_d),np.std(tlp_d)))\n",
    "    \n",
    "    lp_extend.append((np.average(tlp_extend),np.std(tlp_extend)))\n",
    "    \n",
    "    flow_times.append((np.average(tflow_times),np.std(tflow_times)))\n",
    "    flow_d.append((np.average(tflow_d),np.std(tflow_d)))\n",
    "    \n",
    "    base_d.append((np.average(tbase_d),np.std(tbase_d)))\n",
    "    \n",
    "    peel_times.append((np.average(tpeel_times),np.std(tpeel_times)))\n",
    "    peel_d.append((np.average(tpeel_d),np.std(tpeel_d)))"
   ]
  },
  {
   "cell_type": "markdown",
   "id": "57beaa31-fafa-4b96-9b2d-533e704a30bd",
   "metadata": {},
   "source": [
    "## plot"
   ]
  },
  {
   "cell_type": "code",
   "execution_count": null,
   "id": "d3084eaa-fb1a-44b3-8e06-dfe3da09c071",
   "metadata": {},
   "outputs": [],
   "source": [
    "lvs = 5\n",
    "plt.errorbar(range(lvs),[i[0] for i in lp_d],[i[1] for i in lp_d],label='LP-S',marker='2',color='grey', capsize=10)\n",
    "plt.errorbar(range(lvs),[i[0] for i in lp_extend],[i[1] for i in lp_extend],label='LP-G',marker='2',color='y', capsize=10)\n",
    "plt.errorbar(range(lvs),[i[0] for i in base_d],[i[1] for i in base_d],label='AF',marker='o',color='g', capsize=10)\n",
    "plt.errorbar(range(lvs),[i[0] for i in flow_d],[i[1] for i in flow_d],label='Q-DISCO-Lagr',marker='x',color='r', capsize=10)\n",
    "plt.errorbar(range(lvs),[i[0] for i in peel_d],[i[1] for i in peel_d],label='Q-DISCO-Peel',marker='d',color='b', capsize=10)\n",
    "plt.xticks(range(lvs),[200,400,800,1600,3200])\n",
    "plt.xlabel('block size')\n",
    "plt.ylabel('density')\n",
    "plt.legend( fontsize=\"15\", ncol=1)\n",
    "plt.show()"
   ]
  },
  {
   "cell_type": "code",
   "execution_count": null,
   "id": "fab13d77-1a83-43b3-ab4d-d5c6cfb85cf3",
   "metadata": {
    "scrolled": true,
    "tags": []
   },
   "outputs": [],
   "source": [
    "# for iteration in range(5):\n",
    "# lp_times, lp_d = [],[]\n",
    "# lp_extend = []\n",
    "# flow_times, flow_d = [],[]\n",
    "# peel_times, peel_d = [],[]\n",
    "# base_times, base_d = [],[]\n",
    "for n in [3200]:\n",
    "    print(\"!!!!\",n,\"!!!!\")\n",
    "    tlp_times, tlp_d = [],[]\n",
    "    tlp_extend = []\n",
    "    tflow_times, tflow_d = [],[]\n",
    "    tpeel_times, tpeel_d = [],[]\n",
    "    tbase_times, tbase_d = [],[]\n",
    "    for iteration in range(5):\n",
    "        G = nx.stochastic_block_model([n,n], [[2*math.log(n)/n, 3/n],[3/n,math.log(n)/100]])\n",
    "        n_w_1 = np.clip(np.random.normal(0.5,0.01,n), -1, 1) \n",
    "        n_w_2 = np.clip(np.random.normal(0.3,0.1,n), -1, 1) \n",
    "        nw = np.concatenate([n_w_1, n_w_2])\n",
    "        # plt.hist([n_w_1, n_w_2])\n",
    "        # plt.show()\n",
    "\n",
    "        model = gp.Model(env=env)\n",
    "        lp_opt, lp_S, lp_time,x = LP_solve(model, G, nw, 0.4, verbose=False)\n",
    "        tlp_times.append(lp_time)\n",
    "        tlp_d.append(lp_opt)\n",
    "        print(\"LP\", lp_opt)\n",
    "\n",
    "        S = np.where(x>0)[0]\n",
    "        while  np.average(nw[S])<0.4:\n",
    "            remove = min(S, key=lambda e:nw[e])\n",
    "            S = S[S!=remove]\n",
    "        tlp_extend.append(G.subgraph(S).number_of_edges()/G.subgraph(S).number_of_nodes())\n",
    "\n",
    "        f = open('data/syn/sbm_200.txt','w')\n",
    "        f.write(str(G.number_of_nodes())+' '+str(G.number_of_edges())+'\\n')\n",
    "\n",
    "        for i in n_w_1:\n",
    "            f.write(str(int(i*100))+'\\n')\n",
    "        for i in n_w_2:\n",
    "            f.write(str(int(i*100))+'\\n')\n",
    "\n",
    "        for e in G.edges():\n",
    "            f.write(str(e[0])+' '+str(e[1])+' '+'1\\n')\n",
    "\n",
    "        f.close()\n",
    "\n",
    "        st = time.time()\n",
    "        fout = open(f\"output/syn/sbm_200_process_{n}.flow\", \"w\")\n",
    "        subprocess.run([\"./code-greedy++/exactweighted\",\"100\", \"100\", \"40\", \"100\", \"data/syn/sbm_200.txt\", \"output/syn/sbm_200.maxflow\"], stdout=fout) \n",
    "        finish_time = time.time()-st\n",
    "        f = open(\"output/syn/sbm_200.maxflow\",\"r\")\n",
    "        uids = []\n",
    "        for line in f:\n",
    "            uids.append(int(line.strip()))\n",
    "        if (len(uids)<=0):\n",
    "            print(\"!!!\")\n",
    "            break\n",
    "        d = G.subgraph(uids).number_of_edges()/len(uids)\n",
    "        tflow_times.append(finish_time)\n",
    "        tflow_d.append(d)\n",
    "        print(d, len(uids))\n",
    "\n",
    "        st = time.time()\n",
    "        subprocess.run([\"./code-greedy++/ip\", \"40\", \"100\", \"100\", \"data/syn/sbm_200.txt\", \"output/syn/sbm_200.peel\"],\n",
    "            stdout = subprocess.DEVNULL) \n",
    "        finish_time = time.time()-st\n",
    "        f = open(\"output/syn/sbm_200.peel\",\"r\")\n",
    "        uids = []\n",
    "        for line in f:\n",
    "            uids.append(int(line.strip()))\n",
    "        d = G.subgraph(uids).number_of_edges()/len(uids)\n",
    "        tpeel_times.append(finish_time)\n",
    "        tpeel_d.append(d)\n",
    "        print(d)\n",
    "        b_S, b_d = baseline(G, nw, 0.4)\n",
    "        tbase_d.append(b_d)\n",
    "    lp_times.append((np.average(tlp_times),np.std(tlp_times)))\n",
    "    lp_d.append((np.average(tlp_d),np.std(tlp_d)))\n",
    "    \n",
    "    lp_extend.append((np.average(tlp_extend),np.std(tlp_extend)))\n",
    "    \n",
    "    flow_times.append((np.average(tflow_times),np.std(tflow_times)))\n",
    "    flow_d.append((np.average(tflow_d),np.std(tflow_d)))\n",
    "    \n",
    "    # base_times.append((np.average(tbase_times),np.std(tbase_times)))\n",
    "    base_d.append((np.average(tbase_d),np.std(tbase_d)))\n",
    "    \n",
    "    peel_times.append((np.average(tpeel_times),np.std(tpeel_times)))\n",
    "    peel_d.append((np.average(tpeel_d),np.std(tpeel_d)))"
   ]
  },
  {
   "cell_type": "markdown",
   "id": "27207ef2-90d8-4e3d-825d-11529d062083",
   "metadata": {},
   "source": [
    "### test two plans of algorithm 2"
   ]
  },
  {
   "cell_type": "code",
   "execution_count": null,
   "id": "25db1005-a420-4980-baac-27b2df3e0071",
   "metadata": {
    "scrolled": true,
    "tags": []
   },
   "outputs": [],
   "source": [
    "a_times, a_d = [],[]\n",
    "b_times, b_d = [],[]\n",
    "for n in [100,200,400,800,1600,3200]:\n",
    "    print(\"!!!!\",n,\"!!!!\")\n",
    "    ta_times, ta_d = [],[]\n",
    "    tb_times, tb_d = [],[]\n",
    "    for iteration in range(5):\n",
    "        G = nx.stochastic_block_model([n,n], [[2*math.log(n)/n, 3/n],[3/n,math.log(n)/100]])\n",
    "        n_w_1 = np.clip(np.random.normal(0.5,0.01,n), -1, 1) \n",
    "        n_w_2 = np.clip(np.random.normal(0.3,0.1,n), -1, 1) \n",
    "        nw = np.concatenate([n_w_1, n_w_2])\n",
    "        \n",
    "        f = open('data/syn/sbm_200.txt','w')\n",
    "        f.write(str(G.number_of_nodes())+' '+str(G.number_of_edges())+'\\n')\n",
    "\n",
    "        for i in n_w_1:\n",
    "            f.write(str(int(i*100))+'\\n')\n",
    "        for i in n_w_2:\n",
    "            f.write(str(int(i*100))+'\\n')\n",
    "\n",
    "        for e in G.edges():\n",
    "            f.write(str(e[0])+' '+str(e[1])+' '+'1\\n')\n",
    "\n",
    "        f.close()\n",
    "\n",
    "        fouta = open(f\"output/syn/sbm_200_process_{n}.pa\", \"w\")\n",
    "        \n",
    "        st = time.time()\n",
    "        subprocess.run([\"./code-greedy++/ip_a\", \"40\", \"100\", \"100\", \"data/syn/sbm_200.txt\", \"output/syn/sbm_200.pa\"],\n",
    "            stdout = fouta) \n",
    "        finish_time = time.time()-st\n",
    "        f = open(\"output/syn/sbm_200.pa\",\"r\")\n",
    "        uids = []\n",
    "        for line in f:\n",
    "            uids.append(int(line.strip()))\n",
    "        d = G.subgraph(uids).number_of_edges()/len(uids)\n",
    "        ta_times.append(finish_time)\n",
    "        ta_d.append(d)\n",
    "        print(d)\n",
    "        \n",
    "        foutb = open(f\"output/syn/sbm_200_process_{n}.pb\", \"w\")\n",
    "        \n",
    "        st = time.time()\n",
    "        subprocess.run([\"./code-greedy++/ip_b\", \"40\", \"100\", \"100\", \"data/syn/sbm_200.txt\", \"output/syn/sbm_200.pb\"],\n",
    "            stdout = foutb) \n",
    "        finish_time = time.time()-st\n",
    "        f = open(\"output/syn/sbm_200.pb\",\"r\")\n",
    "        uids = []\n",
    "        for line in f:\n",
    "            uids.append(int(line.strip()))\n",
    "        d = G.subgraph(uids).number_of_edges()/len(uids)\n",
    "        tb_times.append(finish_time)\n",
    "        tb_d.append(d)\n",
    "        print(d)\n",
    "    \n",
    "    a_times.append((np.average(ta_times),np.std(ta_times)))\n",
    "    a_d.append((np.average(ta_d),np.std(ta_d)))\n",
    "    b_times.append((np.average(tb_times),np.std(tb_times)))\n",
    "    b_d.append((np.average(tb_d),np.std(tb_d)))"
   ]
  },
  {
   "cell_type": "code",
   "execution_count": null,
   "id": "533696a4-2dcc-4ad4-958e-81c9745a3f77",
   "metadata": {},
   "outputs": [],
   "source": []
  },
  {
   "cell_type": "code",
   "execution_count": null,
   "id": "8e270ebb-6185-4498-a956-4cb36d40579a",
   "metadata": {},
   "outputs": [],
   "source": []
  },
  {
   "cell_type": "code",
   "execution_count": null,
   "id": "653a66db-e260-403f-a631-9f9d166cf1f0",
   "metadata": {
    "tags": []
   },
   "outputs": [],
   "source": [
    "tlp_extend, tlp_d"
   ]
  },
  {
   "cell_type": "code",
   "execution_count": null,
   "id": "c2b07b5b-58ab-4147-b68b-e7ed069d3c3b",
   "metadata": {
    "tags": []
   },
   "outputs": [],
   "source": [
    "lvs = 6\n",
    "plt.errorbar(range(lvs),[i[0] for i in lp_d],[i[1] for i in lp_d],label='LP-S',marker='2',color='b', capsize=10)\n",
    "plt.errorbar(range(lvs),[i[0] for i in lp_extend],[i[1] for i in lp_extend],label='LP-G',marker='2',color='y', capsize=10)\n",
    "plt.errorbar(range(lvs),[i[0] for i in base_d],[i[1] for i in base_d],label='AF',marker='o',color='g', capsize=10)\n",
    "plt.errorbar(range(lvs),[i[0] for i in flow_d],[i[1] for i in flow_d],label='Algo-1',marker='x',color='r', capsize=10)\n",
    "plt.errorbar(range(lvs),[i[0] for i in peel_d],[i[1] for i in peel_d],label='Algo-2',marker='d',color='grey', capsize=10)\n",
    "# plt.errorbar(range(lvs),[i[0] for i in a_d],[i[1] for i in a_d],label='Algo-a',marker='x',color='r', capsize=10)\n",
    "# plt.errorbar(range(lvs),[i[0] for i in b_d],[i[1] for i in b_d],label='Algo-b',marker='d',color='c', capsize=10)\n",
    "plt.xticks(range(lvs),[100,200,400,800,1600,3200])\n",
    "plt.xlabel('block size')\n",
    "plt.ylabel('density')\n",
    "plt.legend()\n",
    "plt.tight_layout()\n",
    "plt.savefig(\"fig/syn_density.png\")\n",
    "plt.show()"
   ]
  },
  {
   "cell_type": "code",
   "execution_count": null,
   "id": "e6feaa3d-7f82-4992-878d-37a40f17c983",
   "metadata": {
    "tags": []
   },
   "outputs": [],
   "source": [
    "lvs = 6\n",
    "plt.plot(range(lvs),[i[0] for i in lp_times],label='LP',color='b',marker='2')\n",
    "plt.plot(range(lvs),np.array([i[0] for i in flow_times])/12,label='AF',color='g',marker='o')\n",
    "plt.plot(range(lvs),[i[0] for i in flow_times],label='Algo-1',color='r',marker='x')\n",
    "plt.plot(range(lvs),[i[0] for i in peel_times],label='Algo-2',color='grey',marker='d')\n",
    "# plt.errorbar(range(lvs),[i[1] for i in lp_extend],[i[1] for i in lp_extend],label='LP-G')\n",
    "plt.xticks(range(lvs),[100,200,400,800,1600,3200])\n",
    "plt.ylabel(\"time (s)\")\n",
    "plt.xlabel('block size')\n",
    "plt.yscale('log')\n",
    "# plt.legend()\n",
    "plt.tight_layout()\n",
    "plt.savefig(\"fig/syn_time.png\")\n",
    "plt.show()"
   ]
  },
  {
   "cell_type": "code",
   "execution_count": null,
   "id": "fa0e503d-67f7-4ea3-9c62-52778e1b0a89",
   "metadata": {},
   "outputs": [],
   "source": []
  },
  {
   "cell_type": "code",
   "execution_count": null,
   "id": "b083eca4-6337-488a-8c90-f1f229fa6cb8",
   "metadata": {},
   "outputs": [],
   "source": [
    "import pickle "
   ]
  },
  {
   "cell_type": "code",
   "execution_count": null,
   "id": "fa2c5ab5-66e7-4f00-bd95-b20917bb1227",
   "metadata": {
    "tags": []
   },
   "outputs": [],
   "source": [
    "(lp_times,flow_times,peel_times) = pickle.load(open('output/syn/time.pickle','rb'))\n",
    "(lp_d,flow_d,peel_d,base_d,lp_extend) = pickle.load(open('output/syn/density.pickle','rb'))"
   ]
  },
  {
   "cell_type": "code",
   "execution_count": null,
   "id": "319ceacb-1b2b-40b9-b433-7890c01d60b2",
   "metadata": {},
   "outputs": [],
   "source": []
  },
  {
   "cell_type": "code",
   "execution_count": null,
   "id": "acdf5186-b9b3-4b9b-8f6a-a6f8a7520d43",
   "metadata": {
    "tags": []
   },
   "outputs": [],
   "source": [
    "\n",
    "\n",
    "pickle.dump((lp_times,flow_times,peel_times), open('output/syn/time.pickle','wb'))"
   ]
  },
  {
   "cell_type": "code",
   "execution_count": null,
   "id": "275ef47b-2af4-4d14-8f56-1505fe166564",
   "metadata": {
    "tags": []
   },
   "outputs": [],
   "source": [
    "pickle.dump((lp_d,flow_d,peel_d,base_d,lp_extend), open('output/syn/density.pickle','wb'))"
   ]
  },
  {
   "cell_type": "code",
   "execution_count": null,
   "id": "36390027-359a-43d6-8d35-49292d74275c",
   "metadata": {
    "tags": []
   },
   "outputs": [],
   "source": [
    "peel_times"
   ]
  },
  {
   "cell_type": "code",
   "execution_count": null,
   "id": "44720460-bf09-44bc-801d-edc7370aeeec",
   "metadata": {
    "tags": []
   },
   "outputs": [],
   "source": [
    "lvs = 3\n",
    "plt.errorbar(range(lvs),[i[0] for i in lp_d],[i[1] for i in lp_d],label='LP',marker='2')\n",
    "plt.errorbar(range(lvs),[i[0] for i in flow_d],[i[1] for i in flow_d],label='flow',marker='x')\n",
    "plt.errorbar(range(lvs),[i[0] for i in peel_d],[i[1] for i in peel_d],label='peel',marker='d')\n",
    "plt.errorbar(range(lvs),[i[0] for i in base_d],[i[1] for i in base_d],label='baseline',marker='1')\n",
    "plt.errorbar(range(lvs),[i[0] for i in lp_extend],[i[1] for i in lp_extend],label='LP-extend')\n",
    "plt.legend()"
   ]
  },
  {
   "cell_type": "code",
   "execution_count": null,
   "id": "43e3e547-65aa-4272-a6f0-5521f0edcd39",
   "metadata": {
    "tags": []
   },
   "outputs": [],
   "source": [
    "d, lp_opt"
   ]
  },
  {
   "cell_type": "code",
   "execution_count": null,
   "id": "5546efa8-d119-41f6-8255-de5b7e6cbdb3",
   "metadata": {},
   "outputs": [],
   "source": [
    "flow_d"
   ]
  },
  {
   "cell_type": "code",
   "execution_count": null,
   "id": "35e81464-8754-4fcb-b1cf-4a4d6d32c368",
   "metadata": {
    "tags": []
   },
   "outputs": [],
   "source": [
    "S = np.where(np.array([i.x for i in model.getVars()[:2*n]])>0)[0]\n",
    "cur_density = float(G.subgraph(S).number_of_edges())/len(S)\n",
    "cur_nw = sum(nw[u] for u in S)/len(S)\n",
    "cur_density, cur_nw"
   ]
  },
  {
   "cell_type": "code",
   "execution_count": null,
   "id": "e8fb9ff8-9d10-4310-945b-44c05402e724",
   "metadata": {
    "tags": []
   },
   "outputs": [],
   "source": [
    "cur_density, cur_nw"
   ]
  },
  {
   "cell_type": "code",
   "execution_count": null,
   "id": "73d65ac0-9207-448b-8749-0a9613cd187f",
   "metadata": {
    "tags": []
   },
   "outputs": [],
   "source": [
    "plt.plot(lp_d,label='LP',marker='2')\n",
    "plt.plot(flow_d,label='flow',marker='x')\n",
    "plt.plot(peel_d,label='peel',marker='d')\n",
    "plt.plot(base_d,label='baseline',marker='1')\n",
    "plt.plot(lp_extend,label='LP-extend')\n",
    "plt.xticks(range(5),[100,200,400,800,1600])\n",
    "plt.xlabel('block size')\n",
    "plt.ylabel('density')\n",
    "plt.legend()\n",
    "plt.tight_layout()\n",
    "plt.savefig(\"fig/syn_density.png\")\n",
    "plt.show()"
   ]
  },
  {
   "cell_type": "code",
   "execution_count": null,
   "id": "e5f284ca-9231-4e9d-b31f-5f41d02828de",
   "metadata": {
    "tags": []
   },
   "outputs": [],
   "source": [
    "plt.plot(lp_times,label='LP',marker='2')\n",
    "plt.plot(flow_times,label='flow',marker='x')\n",
    "plt.plot(peel_times,label='peel',marker='d')\n",
    "plt.plot(np.array(flow_times)/12,label='baseline',marker='1')\n",
    "plt.xticks(range(6),[100,200,400,800,1600,3200])\n",
    "plt.xlabel('block size')\n",
    "plt.ylabel(\"time (s)\")\n",
    "plt.yscale('log')\n",
    "plt.legend()\n",
    "plt.tight_layout()\n",
    "plt.savefig(\"fig/syn_time.png\")\n",
    "plt.show()"
   ]
  },
  {
   "cell_type": "code",
   "execution_count": null,
   "id": "fe42046b-6949-4398-82e6-05eaa323584b",
   "metadata": {
    "tags": []
   },
   "outputs": [],
   "source": [
    "fout = open(\"output/syn/sbm_200_process.flow\",\"r\")\n",
    "lmd = []\n",
    "e_d, n_d = [],[]\n",
    "for line in fout:\n",
    "    if line.startswith(\"using lambda\"):\n",
    "        lmd.append(int(line.split(\" \")[-1].strip()))\n",
    "    if line.startswith(\"size:\"):\n",
    "        e_d.append(float(line.split(\":\")[-1].strip()))\n",
    "        n_d.append(float(line.split(\",\")[-2].split(\":\")[-1].strip()))"
   ]
  },
  {
   "cell_type": "code",
   "execution_count": null,
   "id": "ac0c0ed1-2bae-4a1d-8d28-0c7c894ed039",
   "metadata": {
    "tags": []
   },
   "outputs": [],
   "source": [
    "e_d, n_d, lmd"
   ]
  },
  {
   "cell_type": "code",
   "execution_count": null,
   "id": "153d4c3e-da63-4afe-9ac3-714d1a1eb32f",
   "metadata": {
    "tags": []
   },
   "outputs": [],
   "source": [
    "for idx in range(3,len(e_d)):\n",
    "    L = 125\n",
    "    edge_d = e_d[idx]\n",
    "    node_d = n_d[idx]\n",
    "    l_upper = lmd[idx]\n",
    "    plt.plot([0,L],[edge_d, edge_d+ L*(node_d/100-0.4)])\n",
    "#     , label=\"lambda=\"+lbd+\", size=\"+size\n",
    "plt.ylim(-0.1,20)\n",
    "plt.xlabel(r\"$\\lambda$\")\n",
    "# plt.yscale(\"log\")\n",
    "plt.tight_layout()\n",
    "plt.savefig(\"fig/flow_lagrangian_demo.png\")\n",
    "plt.show()"
   ]
  },
  {
   "cell_type": "code",
   "execution_count": null,
   "id": "02c9f683-63ab-4af3-af3f-ecaad1ed54fe",
   "metadata": {},
   "outputs": [],
   "source": []
  },
  {
   "cell_type": "code",
   "execution_count": null,
   "id": "27aaa2e8-f08d-4d6b-86be-aa5aa78beef7",
   "metadata": {
    "tags": []
   },
   "outputs": [],
   "source": [
    "f = open('data/syn/sbm_200.txt','w')\n",
    "f.write(str(G.number_of_nodes())+' '+str(G.number_of_edges())+'\\n')\n",
    "\n",
    "for i in n_w_1:\n",
    "    f.write(str(int(i*100))+'\\n')\n",
    "for i in n_w_2:\n",
    "    f.write(str(int(i*100))+'\\n')\n",
    "    \n",
    "for e in G.edges():\n",
    "    f.write(str(e[0])+' '+str(e[1])+' '+'1\\n')\n",
    "\n",
    "f.close()"
   ]
  },
  {
   "cell_type": "code",
   "execution_count": null,
   "id": "2984d850-ebc2-45fd-9d61-b6605b9ba8a1",
   "metadata": {
    "tags": []
   },
   "outputs": [],
   "source": [
    "st = time.time()\n",
    "subprocess.run([\"./code-greedy++/exactweighted\",\"1000\", \"10\", \"40\", \"100\", \"data/syn/sbm_200.txt\", \"output/syn/sbm_200.maxflow\"],\n",
    "    stdout = subprocess.DEVNULL) \n",
    "finish_time = time.time()-st\n",
    "\n",
    "f = open(\"output/syn/sbm_200.maxflow\",\"r\")\n",
    "uids = []\n",
    "for line in f:\n",
    "    uids.append(int(line.strip()))\n",
    "d = G.subgraph(uids).number_of_edges()/len(uids)\n",
    "\n",
    "\n",
    "st = time.time()\n",
    "subprocess.run([\"./code-greedy++/ip\", \"40\", \"100\", \"100\", \"data/syn/sbm_200.txt\", \"output/syn/sbm_200.peel\"],\n",
    "    stdout = subprocess.DEVNULL) \n",
    "finish_time = time.time()-st\n",
    "\n",
    "f = open(\"output/syn/sbm_200.peel\",\"r\")\n",
    "uids = []\n",
    "for line in f:\n",
    "    uids.append(int(line.strip()))\n",
    "d = G.subgraph(uids).number_of_edges()/len(uids)"
   ]
  },
  {
   "cell_type": "code",
   "execution_count": null,
   "id": "ae36d15d-faf2-4943-aca2-1caaf8752a39",
   "metadata": {
    "scrolled": true,
    "tags": []
   },
   "outputs": [],
   "source": [
    "\n",
    "%%bash\n",
    "./code-greedy++/exactweighted 1000 10 40 100 data/syn/sbm_200.txt output/syn/sbm_200.maxflow"
   ]
  },
  {
   "cell_type": "code",
   "execution_count": null,
   "id": "76cd2e86-d07a-41fc-8567-4738faa81340",
   "metadata": {
    "scrolled": true,
    "tags": []
   },
   "outputs": [],
   "source": [
    "%%bash\n",
    "./code-greedy++/ip 40 100 100 data/syn/sbm_200.txt output/syn/sbm_200.peel"
   ]
  },
  {
   "cell_type": "code",
   "execution_count": null,
   "id": "7dcb8711-36ee-488f-93d6-d3aba511e51e",
   "metadata": {},
   "outputs": [],
   "source": []
  }
 ],
 "metadata": {
  "kernelspec": {
   "display_name": "Python 3 (ipykernel)",
   "language": "python",
   "name": "python3"
  },
  "language_info": {
   "codemirror_mode": {
    "name": "ipython",
    "version": 3
   },
   "file_extension": ".py",
   "mimetype": "text/x-python",
   "name": "python",
   "nbconvert_exporter": "python",
   "pygments_lexer": "ipython3",
   "version": "3.8.18"
  }
 },
 "nbformat": 4,
 "nbformat_minor": 5
}
