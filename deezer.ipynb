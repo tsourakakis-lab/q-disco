{
 "cells": [
  {
   "cell_type": "markdown",
   "metadata": {
    "tags": []
   },
   "source": [
    "# Import"
   ]
  },
  {
   "cell_type": "code",
   "execution_count": null,
   "metadata": {},
   "outputs": [],
   "source": [
    "import networkx as nx\n",
    "import numpy as np\n",
    "import matplotlib.pyplot as plt\n",
    "import time\n",
    "from scipy import optimize\n",
    "import pandas as pd\n",
    "plt.rcParams.update({'font.size': 17})"
   ]
  },
  {
   "cell_type": "code",
   "execution_count": null,
   "metadata": {},
   "outputs": [],
   "source": [
    "import dsd"
   ]
  },
  {
   "cell_type": "markdown",
   "metadata": {},
   "source": [
    "# Gemsec deezer"
   ]
  },
  {
   "cell_type": "code",
   "execution_count": null,
   "metadata": {
    "tags": []
   },
   "outputs": [],
   "source": [
    "G = nx.from_pandas_edgelist(pd.read_csv('data/deezer_clean_data/HR_edges.csv'),source=\"node_1\",target='node_2')\n",
    "G.remove_edges_from(nx.selfloop_edges(G))\n",
    "n = G.number_of_nodes()\n",
    "m = G.number_of_edges()\n",
    "nodemap = {}\n",
    "idx = 0\n",
    "for i in G.nodes():\n",
    "    nodemap[i] = idx\n",
    "    idx += 1\n",
    "G = nx.relabel_nodes(G, nodemap)\n",
    "print(n,m)"
   ]
  },
  {
   "cell_type": "markdown",
   "metadata": {
    "tags": []
   },
   "source": [
    "## Node features"
   ]
  },
  {
   "cell_type": "code",
   "execution_count": null,
   "metadata": {
    "tags": []
   },
   "outputs": [],
   "source": [
    "import json\n",
    "\n",
    "genres = json.load(open('data/deezer_clean_data/HR_genres.json','r'))"
   ]
  },
  {
   "cell_type": "code",
   "execution_count": null,
   "metadata": {
    "tags": []
   },
   "outputs": [],
   "source": [
    "all_gens = set()\n",
    "for i in genres:\n",
    "    for j in genres[i]:\n",
    "        all_gens.add(j)\n",
    "len(all_gens)"
   ]
  },
  {
   "cell_type": "code",
   "execution_count": null,
   "metadata": {
    "tags": []
   },
   "outputs": [],
   "source": [
    "cnt = 0\n",
    "genres_id_map = {}\n",
    "id_genres_map = {}\n",
    "for i in all_gens:\n",
    "    genres_id_map[i] = cnt\n",
    "    id_genres_map[cnt] = i\n",
    "    cnt += 1\n",
    "node_feature = np.zeros((n, len(all_gens)))\n",
    "for i in genres:\n",
    "    for t in genres[i]:\n",
    "        node_feature[nodemap[int(i)]][genres_id_map[t]] = 1.0\n"
   ]
  },
  {
   "cell_type": "code",
   "execution_count": null,
   "metadata": {
    "tags": []
   },
   "outputs": [],
   "source": [
    "plt.plot(sorted(np.sum(node_feature, axis=0))[::-1])\n",
    "plt.loglog()\n",
    "plt.show()"
   ]
  },
  {
   "cell_type": "code",
   "execution_count": null,
   "metadata": {
    "tags": []
   },
   "outputs": [],
   "source": [
    "np.argsort(np.sum(node_feature, axis=0))[-6:]"
   ]
  },
  {
   "cell_type": "code",
   "execution_count": null,
   "metadata": {},
   "outputs": [],
   "source": []
  },
  {
   "cell_type": "code",
   "execution_count": null,
   "metadata": {
    "scrolled": true,
    "tags": []
   },
   "outputs": [],
   "source": [
    "genres_id_map"
   ]
  },
  {
   "cell_type": "code",
   "execution_count": null,
   "metadata": {
    "tags": []
   },
   "outputs": [],
   "source": [
    "query = np.zeros(len(all_gens))\n",
    "query[0] = 1.0\n",
    "query[1] = 1.0\n",
    "query[5] = -1.0\n",
    "\n",
    "nw = (node_feature @ query.reshape((-1,1))).ravel()"
   ]
  },
  {
   "cell_type": "markdown",
   "metadata": {},
   "source": [
    "#### average node weight of the densest subgraph"
   ]
  },
  {
   "cell_type": "code",
   "execution_count": null,
   "metadata": {
    "tags": []
   },
   "outputs": [],
   "source": [
    "np.average(nw[S])"
   ]
  },
  {
   "cell_type": "code",
   "execution_count": null,
   "metadata": {
    "tags": []
   },
   "outputs": [],
   "source": [
    "f = open('deezer_HR_1.txt','w')\n",
    "# fin = open('../Tectonic-master/com-dblp.ungraph.txt','r')\n",
    "f.write(str(n)+\" \"+str(m)+\"\\n\")\n",
    "for i in nw:\n",
    "    f.write(str(int(i))+'\\n')\n",
    "for e in G.edges():\n",
    "    f.write(str(e[0]) + \" \" + str(e[1]) + ' 1\\n')\n",
    "f.close()"
   ]
  },
  {
   "cell_type": "markdown",
   "metadata": {},
   "source": [
    "### naive baseline"
   ]
  },
  {
   "cell_type": "code",
   "execution_count": null,
   "metadata": {
    "tags": []
   },
   "outputs": [],
   "source": [
    "S = np.where(nw>0.3)[0]\n",
    "\n",
    "S"
   ]
  },
  {
   "cell_type": "code",
   "execution_count": null,
   "metadata": {
    "tags": []
   },
   "outputs": [],
   "source": [
    "densest_S, opt_d = dsd.exact_densest(G.subgraph(S))\n",
    "densest_S, opt_d"
   ]
  },
  {
   "cell_type": "code",
   "execution_count": null,
   "metadata": {},
   "outputs": [],
   "source": []
  },
  {
   "cell_type": "markdown",
   "metadata": {},
   "source": [
    "### run c++ max-flow based solver\n",
    "\n",
    "parameters are: guess accuracy, lambda accuracy, theta, density_upper_bound, input and output file paths."
   ]
  },
  {
   "cell_type": "code",
   "execution_count": null,
   "metadata": {
    "scrolled": true,
    "tags": []
   },
   "outputs": [],
   "source": [
    "%%bash\n",
    "./code-greedy++/exactweighted 100 100 0.3 100 deezer_HR_1.txt output/deezer/deezer_HR_1.output"
   ]
  },
  {
   "cell_type": "code",
   "execution_count": null,
   "metadata": {
    "tags": []
   },
   "outputs": [],
   "source": [
    "S = []\n",
    "f = open('output/deezer/deezer_HR_1.output','r')\n",
    "for line in f:\n",
    "    S.append(int(line.strip()))\n",
    "\n",
    "sub = G.subgraph(S)\n",
    "ccs = sorted(nx.connected_components(sub), key=len)\n",
    "cmap = plt.cm.coolwarm\n",
    "for cc in ccs:\n",
    "    color = []\n",
    "    for i in cc:\n",
    "        color.append(nw[i])\n",
    "\n",
    "    pos = nx.spring_layout(G.subgraph(cc))\n",
    "    pathcollection = nx.draw_networkx(G.subgraph(cc), pos, with_labels=False, node_color=color, node_size=20, cmap=cmap, vmin=-1, vmax=2, width=0.3)\n",
    "    sm = plt.cm.ScalarMappable(cmap=cmap, norm=plt.Normalize(vmin=-1, vmax=2))\n",
    "    sm.set_array([])\n",
    "    cbar = plt.colorbar(sm)\n",
    "    plt.show()"
   ]
  },
  {
   "cell_type": "markdown",
   "metadata": {},
   "source": [
    "### run c++ greedy peeling based solver\n",
    "\n",
    "parameters are: theta, edge weight multiplier, d2(node weight multiplier) upper bound, input and output file paths."
   ]
  },
  {
   "cell_type": "code",
   "execution_count": null,
   "metadata": {
    "scrolled": true,
    "tags": []
   },
   "outputs": [],
   "source": [
    "%%bash\n",
    "./code-greedy++/ip 0.3 10 1000 deezer_HR_1.txt output/deezer/deezer_HR_1.peel"
   ]
  },
  {
   "cell_type": "code",
   "execution_count": null,
   "metadata": {
    "tags": []
   },
   "outputs": [],
   "source": [
    "S = []\n",
    "f = open('output/deezer/deezer_HR_1.peel','r')\n",
    "for line in f:\n",
    "    S.append(int(line.strip()))\n",
    "    "
   ]
  },
  {
   "cell_type": "markdown",
   "metadata": {},
   "source": [
    "### While the resulting subgraph is dense (close to the densest) and align well with query, the graph is disconnected and the average node feature of the only large CC is not close to the query."
   ]
  },
  {
   "cell_type": "code",
   "execution_count": null,
   "metadata": {
    "scrolled": true,
    "tags": []
   },
   "outputs": [],
   "source": [
    "\n",
    "sub = G.subgraph(S)\n",
    "ccs = sorted(nx.connected_components(sub), key=len)\n",
    "cmap = plt.cm.coolwarm\n",
    "for cc in ccs:\n",
    "    color = []\n",
    "    for i in cc:\n",
    "        color.append(nw[i])\n",
    "\n",
    "    pos = nx.spring_layout(G.subgraph(cc))\n",
    "    pathcollection = nx.draw_networkx(G.subgraph(cc), pos, with_labels=False, node_color=color, node_size=20, cmap=cmap, vmin=-1, vmax=2, width=0.3)\n",
    "    sm = plt.cm.ScalarMappable(cmap=cmap, norm=plt.Normalize(vmin=-1, vmax=2))\n",
    "    sm.set_array([])\n",
    "    cbar = plt.colorbar(sm)\n",
    "    plt.show()\n"
   ]
  },
  {
   "cell_type": "code",
   "execution_count": null,
   "metadata": {},
   "outputs": [],
   "source": []
  },
  {
   "cell_type": "code",
   "execution_count": null,
   "metadata": {},
   "outputs": [],
   "source": []
  },
  {
   "cell_type": "markdown",
   "metadata": {
    "tags": []
   },
   "source": [
    "## contrast popular types, query = [pop+, dance-, rock-, Reggae-]"
   ]
  },
  {
   "cell_type": "code",
   "execution_count": null,
   "metadata": {
    "tags": []
   },
   "outputs": [],
   "source": [
    "query = np.zeros(len(all_gens))\n",
    "query[83] = -1.\n",
    "query[78] = -1.\n",
    "query[64] = 1.\n",
    "query[39] = -1.\n",
    "nw = (node_feature @ query.reshape((-1,1))).ravel()"
   ]
  },
  {
   "cell_type": "code",
   "execution_count": null,
   "metadata": {
    "tags": []
   },
   "outputs": [],
   "source": [
    "vmin, vmax = min(nw), max(nw)\n",
    "np.unique(nw)"
   ]
  },
  {
   "cell_type": "markdown",
   "metadata": {},
   "source": [
    "#### average node weight of the densest subgraph"
   ]
  },
  {
   "cell_type": "code",
   "execution_count": null,
   "metadata": {
    "tags": []
   },
   "outputs": [],
   "source": [
    "\n",
    "densest_S, opt_d = dsd.exact_densest(G)"
   ]
  },
  {
   "cell_type": "code",
   "execution_count": null,
   "metadata": {
    "tags": []
   },
   "outputs": [],
   "source": [
    "opt_d, len(densest_S)"
   ]
  },
  {
   "cell_type": "code",
   "execution_count": null,
   "metadata": {
    "tags": []
   },
   "outputs": [],
   "source": [
    "np.average(nw[densest_S])"
   ]
  },
  {
   "cell_type": "code",
   "execution_count": null,
   "metadata": {
    "tags": []
   },
   "outputs": [],
   "source": [
    "\n",
    "sub = G.subgraph(densest_S)\n",
    "ccs = sorted(nx.connected_components(sub), key=len)\n",
    "cmap = plt.cm.coolwarm\n",
    "for cc in ccs:\n",
    "    color = []\n",
    "    for i in cc:\n",
    "        color.append(nw[i])\n",
    "\n",
    "    pos = nx.spring_layout(G.subgraph(cc))\n",
    "    pathcollection = nx.draw_networkx(G.subgraph(cc), pos, with_labels=False, node_color=color, node_size=20, cmap=cmap, vmin=vmin, vmax=vmax, width=0.3)\n",
    "    sm = plt.cm.ScalarMappable(cmap=cmap, norm=plt.Normalize(vmin=vmin, vmax=vmax))\n",
    "    sm.set_array([])\n",
    "    cbar = plt.colorbar(sm)\n",
    "    plt.tight_layout()\n",
    "    plt.savefig('fig/densest_deezer.png')\n",
    "    plt.show()\n"
   ]
  },
  {
   "cell_type": "code",
   "execution_count": null,
   "metadata": {
    "tags": []
   },
   "outputs": [],
   "source": [
    "f = open('data/deezer_clean_data/deezer_HR_2.txt','w')\n",
    "# fin = open('../Tectonic-master/com-dblp.ungraph.txt','r')\n",
    "f.write(str(n)+\" \"+str(m)+\"\\n\")\n",
    "for i in nw:\n",
    "    f.write(str(int(i))+'\\n')\n",
    "for e in G.edges():\n",
    "    f.write(str(e[0]) + \" \" + str(e[1]) + ' 1\\n')\n",
    "f.close()"
   ]
  },
  {
   "cell_type": "markdown",
   "metadata": {},
   "source": [
    "### naive baseline"
   ]
  },
  {
   "cell_type": "code",
   "execution_count": null,
   "metadata": {
    "tags": []
   },
   "outputs": [],
   "source": [
    "S = np.where(nw>0.5)[0]\n",
    "len(S)"
   ]
  },
  {
   "cell_type": "code",
   "execution_count": null,
   "metadata": {
    "tags": []
   },
   "outputs": [],
   "source": [
    "densest_AFS, opt_d = dsd.exact_densest(G.subgraph(S))\n",
    "len(densest_AFS), opt_d, np.average(nw[densest_AFS])"
   ]
  },
  {
   "cell_type": "code",
   "execution_count": null,
   "metadata": {},
   "outputs": [],
   "source": [
    "\n",
    "sub = G.subgraph(densest_AFS)\n",
    "ccs = sorted(nx.connected_components(sub), key=len)\n",
    "cmap = plt.cm.coolwarm\n",
    "for cc in ccs:\n",
    "    color = []\n",
    "    for i in cc:\n",
    "        color.append(nw[i])\n",
    "\n",
    "    pos = nx.spring_layout(G.subgraph(cc))\n",
    "    pathcollection = nx.draw_networkx(G.subgraph(cc), pos, with_labels=False, node_color=color, node_size=20, cmap=cmap, vmin=vmin, vmax=vmax, width=0.3)\n",
    "    sm = plt.cm.ScalarMappable(cmap=cmap, norm=plt.Normalize(vmin=vmin, vmax=vmax))\n",
    "    sm.set_array([])\n",
    "    # cbar = plt.colorbar(sm)\n",
    "    plt.tight_layout()\n",
    "    plt.savefig('fig/AF_deezer.png')\n",
    "    plt.show()\n"
   ]
  },
  {
   "cell_type": "code",
   "execution_count": null,
   "metadata": {},
   "outputs": [],
   "source": []
  },
  {
   "cell_type": "markdown",
   "metadata": {},
   "source": [
    "### run c++ max-flow based solver\n",
    "\n",
    "parameters are: guess accuracy, lambda accuracy, theta, density_upper_bound, input and output file paths."
   ]
  },
  {
   "cell_type": "code",
   "execution_count": null,
   "metadata": {
    "scrolled": true,
    "tags": []
   },
   "outputs": [],
   "source": [
    "%%bash\n",
    "./src/exactweighted 100 100 0.5 100 data/deezer_clean_data/deezer_HR_2.txt output/deezer/deezer_HR_2.flow"
   ]
  },
  {
   "cell_type": "code",
   "execution_count": null,
   "metadata": {
    "tags": []
   },
   "outputs": [],
   "source": [
    "S = []\n",
    "f = open('output/deezer/deezer_HR_2.flow','r')\n",
    "for line in f:\n",
    "    S.append(int(line.strip()))\n",
    "    "
   ]
  },
  {
   "cell_type": "code",
   "execution_count": null,
   "metadata": {
    "tags": []
   },
   "outputs": [],
   "source": [
    "len(S)"
   ]
  },
  {
   "cell_type": "code",
   "execution_count": null,
   "metadata": {
    "scrolled": true,
    "tags": []
   },
   "outputs": [],
   "source": [
    "\n",
    "sub = G.subgraph(S)\n",
    "ccs = sorted(nx.connected_components(sub), key=len)\n",
    "cmap = plt.cm.coolwarm\n",
    "for cc in ccs:\n",
    "    color = []\n",
    "    for i in cc:\n",
    "        color.append(nw[i])\n",
    "\n",
    "    pos = nx.spring_layout(G.subgraph(cc))\n",
    "    pathcollection = nx.draw_networkx(G.subgraph(cc), pos, with_labels=False, node_color=color, node_size=20, cmap=cmap, vmin=vmin, vmax=vmax, width=0.3)\n",
    "    sm = plt.cm.ScalarMappable(cmap=cmap, norm=plt.Normalize(vmin=vmin, vmax=vmax))\n",
    "    sm.set_array([])\n",
    "    # cbar = plt.colorbar(sm)\n",
    "    plt.tight_layout()\n",
    "    plt.savefig('fig/alg1_deezer.png')\n",
    "    plt.show()\n"
   ]
  },
  {
   "cell_type": "markdown",
   "metadata": {},
   "source": [
    "### run c++ greedy peeling based solver\n",
    "\n",
    "parameters are: theta, edge weight multiplier, d2(node weight multiplier) upper bound, input and output file paths."
   ]
  },
  {
   "cell_type": "code",
   "execution_count": null,
   "metadata": {
    "scrolled": true,
    "tags": []
   },
   "outputs": [],
   "source": [
    "%%bash\n",
    "./src/ip 0.5 10 1000 data/deezer_clean_data/deezer_HR_2.txt output/deezer/deezer_HR_2.peel"
   ]
  },
  {
   "cell_type": "code",
   "execution_count": null,
   "metadata": {
    "tags": []
   },
   "outputs": [],
   "source": [
    "S = []\n",
    "f = open('output/deezer/deezer_HR_2.peel','r')\n",
    "for line in f:\n",
    "    S.append(int(line.strip()))\n",
    "    "
   ]
  },
  {
   "cell_type": "code",
   "execution_count": null,
   "metadata": {
    "tags": []
   },
   "outputs": [],
   "source": [
    "sub = G.subgraph(S)\n",
    "np.average(nw[S]), sub.number_of_edges()/sub.number_of_nodes(), len(S)"
   ]
  },
  {
   "cell_type": "code",
   "execution_count": null,
   "metadata": {
    "scrolled": true,
    "tags": []
   },
   "outputs": [],
   "source": [
    "\n",
    "sub = G.subgraph(S)\n",
    "ccs = sorted(nx.connected_components(sub), key=len)\n",
    "cmap = plt.cm.coolwarm\n",
    "for cc in ccs:\n",
    "    color = []\n",
    "    for i in cc:\n",
    "        color.append(nw[i])\n",
    "\n",
    "    pos = nx.spring_layout(G.subgraph(cc))\n",
    "    pathcollection = nx.draw_networkx(G.subgraph(cc), pos, with_labels=False, node_color=color, node_size=20, cmap=cmap, vmin=vmin, vmax=vmax, width=0.3)\n",
    "    sm = plt.cm.ScalarMappable(cmap=cmap, norm=plt.Normalize(vmin=vmin, vmax=vmax))\n",
    "    sm.set_array([])\n",
    "    # cbar = plt.colorbar(sm)\n",
    "    plt.tight_layout()\n",
    "    plt.savefig('fig/alg2_deezer.png')\n",
    "    plt.show()\n"
   ]
  },
  {
   "cell_type": "markdown",
   "metadata": {},
   "source": [
    "## tune the \"dislikeness\" of rock fans"
   ]
  },
  {
   "cell_type": "markdown",
   "metadata": {},
   "source": [
    "### Spectrum of theta"
   ]
  },
  {
   "cell_type": "code",
   "execution_count": null,
   "metadata": {
    "scrolled": true,
    "tags": []
   },
   "outputs": [],
   "source": [
    "%%bash\n",
    "./code-greedy++/exactweighted 100 100 0.1 100 data/deezer_clean_data/deezer_HR_2.txt output/deezer/deezer_HR_2_idea1_1.flow\n",
    "./code-greedy++/exactweighted 100 100 0.2 100 data/deezer_clean_data/deezer_HR_2.txt output/deezer/deezer_HR_2_idea1_2.flow\n",
    "./code-greedy++/exactweighted 100 100 0.3 100 data/deezer_clean_data/deezer_HR_2.txt output/deezer/deezer_HR_2_idea1_3.flow\n",
    "./code-greedy++/exactweighted 100 100 0.4 100 data/deezer_clean_data/deezer_HR_2.txt output/deezer/deezer_HR_2_idea1_4.flow\n",
    "./code-greedy++/exactweighted 100 100 0.5 100 data/deezer_clean_data/deezer_HR_2.txt output/deezer/deezer_HR_2_idea1_5.flow\n",
    "./code-greedy++/exactweighted 100 100 0.6 100 data/deezer_clean_data/deezer_HR_2.txt output/deezer/deezer_HR_2_idea1_6.flow\n",
    "./code-greedy++/exactweighted 100 100 0.7 100 data/deezer_clean_data/deezer_HR_2.txt output/deezer/deezer_HR_2_idea1_7.flow\n",
    "./code-greedy++/exactweighted 100 100 0.8 100 data/deezer_clean_data/deezer_HR_2.txt output/deezer/deezer_HR_2_idea1_8.flow\n",
    "./code-greedy++/exactweighted 100 100 0.9 100 data/deezer_clean_data/deezer_HR_2.txt output/deezer/deezer_HR_2_idea1_9.flow\n",
    "./code-greedy++/exactweighted 100 100 0.99 100 data/deezer_clean_data/deezer_HR_2.txt output/deezer/deezer_HR_2_idea1_10.flow"
   ]
  },
  {
   "cell_type": "code",
   "execution_count": null,
   "metadata": {
    "tags": []
   },
   "outputs": [],
   "source": [
    "avg_nw, density = [], []\n",
    "x = [round(0.1*i,1) for i in range(0,11)]\n",
    "fan_nums = {39:[],64:[],78:[],83:[]}\n",
    "for i in range(0,11):\n",
    "    fname = f'output/deezer/deezer_HR_2_idea1_{i}.flow'\n",
    "    S = []\n",
    "    f = open(fname,'r')\n",
    "    for line in f:\n",
    "        S.append(int(line.strip()))\n",
    "\n",
    "    sub = G.subgraph(S)\n",
    "    avg_nw.append(np.average(nw[S]))\n",
    "    density.append(sub.number_of_edges()/sub.number_of_nodes())\n",
    "    for j in fan_nums:\n",
    "        fan_nums[j].append(np.sum(node_feature[S],axis=0)[j]/len(S))\n",
    "    \n",
    "fig, ax1 = plt.subplots()\n",
    "\n",
    "color = 'tab:red'\n",
    "ax1.set_xlabel(r'$\\theta$')\n",
    "ax1.set_ylabel('c(S)', color=color)\n",
    "ax1.plot(x, avg_nw, label='c(S)', marker='d', color=color)\n",
    "ax1.tick_params(axis='y', labelcolor=color)\n",
    "\n",
    "ax2 = ax1.twinx()  # instantiate a second axes that shares the same x-axis\n",
    "\n",
    "color = 'tab:blue'\n",
    "ax2.set_ylabel('d(S)', color=color)  # we already handled the x-label with ax1\n",
    "ax2.plot(x, density, label='d(S)', marker='s', color=color)\n",
    "ax2.tick_params(axis='y', labelcolor=color)\n",
    "xt = []\n",
    "for i in range(11):\n",
    "    if i%2==0:\n",
    "        xt.append(str(round(0.1*i,1)))\n",
    "    else:\n",
    "        xt.append(\"\")\n",
    "plt.xticks([round(0.1*i,1) for i in range(11)],xt)\n",
    "fig.tight_layout()  # otherwise the right y-label is slightly clipped\n",
    "plt.savefig('fig/c_d_tradoff_deezer.png')\n",
    "plt.show()"
   ]
  },
  {
   "cell_type": "code",
   "execution_count": null,
   "metadata": {
    "tags": []
   },
   "outputs": [],
   "source": [
    "for i in fan_nums:\n",
    "    plt.plot(x, fan_nums[i], label=id_genres_map[i], marker='s')\n",
    "plt.legend()\n",
    "plt.xlabel(r'$\\theta$')\n",
    "plt.ylabel('# fans in percentage')\n",
    "plt.tight_layout()\n",
    "plt.savefig('fig/fan_percent_deezer.png')\n",
    "plt.show()"
   ]
  },
  {
   "cell_type": "code",
   "execution_count": null,
   "metadata": {
    "tags": []
   },
   "outputs": [],
   "source": [
    "for j in range(0,10):\n",
    "    query = np.zeros(len(all_gens))\n",
    "    query[54] = -j\n",
    "    query[67] = 1.\n",
    "    query[39] = -1.\n",
    "    nw = (node_feature @ query.reshape((-1,1))).ravel()\n",
    "\n",
    "    f = open(f'data/deezer_clean_data/deezer_HR_2_idea2_{j}.txt','w')\n",
    "    # fin = open('../Tectonic-master/com-dblp.ungraph.txt','r')\n",
    "    f.write(str(n)+\" \"+str(m)+\"\\n\")\n",
    "    for i in nw:\n",
    "        f.write(str(int(i))+'\\n')\n",
    "    for e in G.edges():\n",
    "        f.write(str(e[0]) + \" \" + str(e[1]) + ' 1\\n')\n",
    "    f.close()"
   ]
  },
  {
   "cell_type": "code",
   "execution_count": null,
   "metadata": {
    "scrolled": true,
    "tags": []
   },
   "outputs": [],
   "source": [
    "%%bash\n",
    "./code-greedy++/exactweighted 100 100 0.5 100 data/deezer_clean_data/deezer_HR_2_idea2_0.txt output/deezer/deezer_HR_2_idea2_0.flow\n",
    "./code-greedy++/exactweighted 100 100 0.5 100 data/deezer_clean_data/deezer_HR_2_idea2_1.txt output/deezer/deezer_HR_2_idea2_1.flow\n",
    "./code-greedy++/exactweighted 100 100 0.5 100 data/deezer_clean_data/deezer_HR_2_idea2_2.txt output/deezer/deezer_HR_2_idea2_2.flow\n",
    "./code-greedy++/exactweighted 100 100 0.5 100 data/deezer_clean_data/deezer_HR_2_idea2_3.txt output/deezer/deezer_HR_2_idea2_3.flow\n",
    "./code-greedy++/exactweighted 100 100 0.5 100 data/deezer_clean_data/deezer_HR_2_idea2_4.txt output/deezer/deezer_HR_2_idea2_4.flow\n",
    "./code-greedy++/exactweighted 100 100 0.5 100 data/deezer_clean_data/deezer_HR_2_idea2_5.txt output/deezer/deezer_HR_2_idea2_5.flow\n",
    "./code-greedy++/exactweighted 100 100 0.5 100 data/deezer_clean_data/deezer_HR_2_idea2_6.txt output/deezer/deezer_HR_2_idea2_6.flow\n",
    "./code-greedy++/exactweighted 100 100 0.5 100 data/deezer_clean_data/deezer_HR_2_idea2_7.txt output/deezer/deezer_HR_2_idea2_7.flow\n",
    "./code-greedy++/exactweighted 100 100 0.5 100 data/deezer_clean_data/deezer_HR_2_idea2_8.txt output/deezer/deezer_HR_2_idea2_8.flow\n",
    "./code-greedy++/exactweighted 100 100 0.5 100 data/deezer_clean_data/deezer_HR_2_idea2_9.txt output/deezer/deezer_HR_2_idea2_9.flow"
   ]
  },
  {
   "cell_type": "code",
   "execution_count": null,
   "metadata": {
    "tags": []
   },
   "outputs": [],
   "source": [
    "avg_nw, density = [], []\n",
    "x = [i for i in range(10)]\n",
    "fan_nums = {39:[],54:[],67:[]}\n",
    "for i in range(0,10):\n",
    "    query = np.zeros(len(all_gens))\n",
    "    query[54] = -i\n",
    "    query[67] = 1.\n",
    "    query[39] = -1.\n",
    "    nw = (node_feature @ query.reshape((-1,1))).ravel()\n",
    "    fname = f'output/deezer/deezer_HR_2_idea2_{i}.flow'\n",
    "    S = []\n",
    "    f = open(fname,'r')\n",
    "    for line in f:\n",
    "        S.append(int(line.strip()))\n",
    "\n",
    "    sub = G.subgraph(S)\n",
    "    avg_nw.append(np.average(nw[S]))\n",
    "    density.append(sub.number_of_edges()/sub.number_of_nodes())\n",
    "    for j in fan_nums:\n",
    "        fan_nums[j].append(np.sum(node_feature[S],axis=0)[j]/len(S))\n",
    "    \n",
    "fig, ax1 = plt.subplots()\n",
    "\n",
    "color = 'tab:red'\n",
    "ax1.set_xlabel('query value')\n",
    "ax1.set_ylabel('c(S)', color=color)\n",
    "ax1.plot(x, avg_nw, label='c(S)', marker='d', color=color)\n",
    "ax1.tick_params(axis='y', labelcolor=color)\n",
    "\n",
    "ax2 = ax1.twinx()  # instantiate a second axes that shares the same x-axis\n",
    "\n",
    "color = 'tab:blue'\n",
    "ax2.set_ylabel('d(S)', color=color)  # we already handled the x-label with ax1\n",
    "ax2.plot(x, density, label='d(S)', marker='s', color=color)\n",
    "ax2.tick_params(axis='y', labelcolor=color)\n",
    "\n",
    "fig.tight_layout()  # otherwise the right y-label is slightly clipped\n",
    "plt.show()"
   ]
  },
  {
   "cell_type": "code",
   "execution_count": null,
   "metadata": {
    "tags": []
   },
   "outputs": [],
   "source": [
    "for i in fan_nums:\n",
    "    plt.plot(x, fan_nums[i], label=id_genres_map[i], marker='s')\n",
    "plt.legend()\n",
    "plt.ylabel('# fans in percentage')\n",
    "plt.xlabel('query value')\n",
    "plt.show()"
   ]
  },
  {
   "cell_type": "code",
   "execution_count": null,
   "metadata": {},
   "outputs": [],
   "source": []
  }
 ],
 "metadata": {
  "kernelspec": {
   "display_name": "gt",
   "language": "python",
   "name": "gt"
  },
  "language_info": {
   "codemirror_mode": {
    "name": "ipython",
    "version": 3
   },
   "file_extension": ".py",
   "mimetype": "text/x-python",
   "name": "python",
   "nbconvert_exporter": "python",
   "pygments_lexer": "ipython3",
   "version": "3.8.8"
  }
 },
 "nbformat": 4,
 "nbformat_minor": 4
}
